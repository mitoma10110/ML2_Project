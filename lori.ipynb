{
 "cells": [
  {
   "cell_type": "code",
   "execution_count": 1,
   "metadata": {},
   "outputs": [
    {
     "ename": "NameError",
     "evalue": "name 'fishdata' is not defined",
     "output_type": "error",
     "traceback": [
      "\u001b[1;31m---------------------------------------------------------------------------\u001b[0m",
      "\u001b[1;31mNameError\u001b[0m                                 Traceback (most recent call last)",
      "Cell \u001b[1;32mIn[1], line 36\u001b[0m\n\u001b[0;32m     33\u001b[0m     \u001b[38;5;66;03m# Show plot\u001b[39;00m\n\u001b[0;32m     34\u001b[0m     plt\u001b[38;5;241m.\u001b[39mshow()\n\u001b[1;32m---> 36\u001b[0m plot_population(\u001b[43mfishdata\u001b[49m)\n",
      "\u001b[1;31mNameError\u001b[0m: name 'fishdata' is not defined"
     ]
    }
   ],
   "source": [
    "import numpy as np\n",
    "import matplotlib.pyplot as plt\n",
    "from matplotlib.offsetbox import OffsetImage, AnnotationBbox\n",
    "from scipy.cluster.hierarchy import dendrogram, linkage\n",
    "from shapely.geometry import Point\n",
    "import geopandas as gpd\n",
    "def plot_population(data):\n",
    "    # Assuming cust_info contains latitude and longitude columns for Portugal\n",
    "    geometry = [Point(xy) for xy in zip(data['longitude'], data['latitude'])]\n",
    "    gdf = gpd.GeoDataFrame(data, geometry=geometry)   \n",
    "\n",
    "    # Load low-resolution world map\n",
    "    world = gpd.read_file(gpd.datasets.get_path('naturalearth_lowres'))\n",
    "\n",
    "    # Filter to include only Portugal\n",
    "    portugal = world[world['name'] == 'Portugal']\n",
    "\n",
    "    # Create a plot\n",
    "    fig, ax = plt.subplots(figsize=(10, 6))\n",
    "\n",
    "    # Plot map of Portugal\n",
    "    portugal.plot(ax=ax, color='lightblue') \n",
    "\n",
    "    # Plot all points in Portugal\n",
    "    gdf.plot(ax=ax, marker='o', color='red', markersize=15)\n",
    "\n",
    "    # Set plot title and labels\n",
    "    ax.set_title('Location of Customers in Portugal')\n",
    "    ax.set_xlabel('Longitude')\n",
    "    ax.set_ylabel('Latitude')\n",
    "    ax.set_ylim(38, 40)\n",
    "    ax.set_xlim(-9.8, -8)\n",
    "    # Show plot\n",
    "    plt.show()\n",
    "\n",
    "plot_population(fishdata)"
   ]
  }
 ],
 "metadata": {
  "kernelspec": {
   "display_name": "Python 3",
   "language": "python",
   "name": "python3"
  },
  "language_info": {
   "codemirror_mode": {
    "name": "ipython",
    "version": 3
   },
   "file_extension": ".py",
   "mimetype": "text/x-python",
   "name": "python",
   "nbconvert_exporter": "python",
   "pygments_lexer": "ipython3",
   "version": "3.12.2"
  }
 },
 "nbformat": 4,
 "nbformat_minor": 2
}
